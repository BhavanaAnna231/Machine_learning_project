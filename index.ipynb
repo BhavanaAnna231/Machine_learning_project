{
  "cells": [
    {
      "cell_type": "markdown",
      "metadata": {
        "id": "BFB6wgHCCJv9"
      },
      "source": [
        "# Building a Neural Conversational Agent: Theory and Implementation\n",
        "\n",
        "This notebook presents a comprehensive implementation of a sequence-to-sequence based chatbot using the Cornell Movie Dialog Corpus. We'll explore the theoretical foundations, mathematical formulations, and practical implementation of a neural conversational agent.\n",
        "\n",
        "## Table of Contents\n",
        "1. [Introduction to Conversational AI](#1-introduction-to-conversational-ai)\n",
        "2. [Theoretical Background](#2-theoretical-background)\n",
        "3. [Sequence-to-Sequence Architecture](#3-sequence-to-sequence-architecture)\n",
        "4. [Data Acquisition and Preprocessing](#4-data-acquisition-and-preprocessing)\n",
        "5. [Model Implementation](#5-model-implementation)\n",
        "6. [Training the Model](#6-training-the-model)\n",
        "7. [Model Evaluation](#7-model-evaluation)\n",
        "8. [Interactive Testing](#8-interactive-testing)\n",
        "9. [Conclusions and Future Work](#9-conclusions-and-future-work)"
      ]
    },
    {
      "cell_type": "markdown",
      "metadata": {
        "id": "SID4K10PCJwA"
      },
      "source": [
        "## 1. Introduction to Conversational AI\n",
        "\n",
        "Conversational AI systems enable human-like interactions between humans and computers through natural language. These systems analyze user input, understand intent, and generate responses that simulate human conversation.\n",
        "\n",
        "Chatbots represent one of the most common implementations of conversational AI. They can be broadly classified into:\n",
        "\n",
        "1. **Rule-based chatbots**: Systems that follow predefined rules and patterns\n",
        "2. **Retrieval-based chatbots**: Systems that select responses from a repository based on input similarity\n",
        "3. **Generative chatbots**: Systems that can create novel responses based on learned patterns\n",
        "\n",
        "In this notebook, we'll implement a generative chatbot using neural sequence-to-sequence (Seq2Seq) models. These models have demonstrated significant success in generating contextually appropriate and coherent responses in open-domain conversations."
      ]
    },
    {
      "cell_type": "markdown",
      "metadata": {
        "id": "I7SyfSuLCJwB"
      },
      "source": [
        "## 2. Theoretical Background\n",
        "\n",
        "### 2.1 Neural Language Models\n",
        "\n",
        "Neural language models learn to predict the probability distribution of words in a sequence. Given a sequence of words $(w_1, w_2, ..., w_{t-1})$, a language model estimates the probability of the next word $w_t$:\n",
        "\n",
        "$$P(w_t | w_1, w_2, ..., w_{t-1})$$\n",
        "\n",
        "The probability of an entire sequence is calculated as:\n",
        "\n",
        "$$P(w_1, w_2, ..., w_T) = \\prod_{t=1}^{T} P(w_t | w_1, w_2, ..., w_{t-1})$$\n",
        "\n",
        "In conversational systems, we're interested in modeling the conditional probability of a response $Y = (y_1, y_2, ..., y_m)$ given an input $X = (x_1, x_2, ..., x_n)$:\n",
        "\n",
        "$$P(Y|X) = P(y_1, y_2, ..., y_m | x_1, x_2, ..., x_n)$$\n",
        "\n",
        "### 2.2 Recurrent Neural Networks (RNNs)\n",
        "\n",
        "RNNs are designed to process sequential data by maintaining a hidden state that captures information from previous time steps. The hidden state $h_t$ at time $t$ is computed as:\n",
        "\n",
        "$$h_t = f(h_{t-1}, x_t)$$\n",
        "\n",
        "where $f$ is a non-linear activation function, $h_{t-1}$ is the previous hidden state, and $x_t$ is the input at time $t$.\n",
        "\n",
        "### 2.3 Long Short-Term Memory (LSTM) Networks\n",
        "\n",
        "LSTMs are a specialized form of RNNs designed to address the vanishing gradient problem in standard RNNs. They introduce additional gating mechanisms to control information flow.\n",
        "\n",
        "The LSTM architecture consists of the following components:\n",
        "\n",
        "1. **Forget gate** ($f_t$): Controls what information to discard from the cell state\n",
        "   $$f_t = \\sigma(W_f \\cdot [h_{t-1}, x_t] + b_f)$$\n",
        "\n",
        "2. **Input gate** ($i_t$): Controls what new information to store in the cell state\n",
        "   $$i_t = \\sigma(W_i \\cdot [h_{t-1}, x_t] + b_i)$$\n",
        "   $$\\tilde{C}_t = \\tanh(W_C \\cdot [h_{t-1}, x_t] + b_C)$$\n",
        "\n",
        "3. **Cell state update**:\n",
        "   $$C_t = f_t \\odot C_{t-1} + i_t \\odot \\tilde{C}_t$$\n",
        "\n",
        "4. **Output gate** ($o_t$): Controls what parts of the cell state to output\n",
        "   $$o_t = \\sigma(W_o \\cdot [h_{t-1}, x_t] + b_o)$$\n",
        "   $$h_t = o_t \\odot \\tanh(C_t)$$\n",
        "\n",
        "Where $\\sigma$ is the sigmoid function, $\\tanh$ is the hyperbolic tangent function, and $\\odot$ represents element-wise multiplication."
      ]
    },
    {
      "cell_type": "markdown",
      "metadata": {
        "id": "udW7gvTQCJwB"
      },
      "source": [
        "## 3. Sequence-to-Sequence Architecture\n",
        "\n",
        "Sequence-to-Sequence (Seq2Seq) models are a type of neural network architecture designed to transform an input sequence into an output sequence. They consist of two main components:\n",
        "\n",
        "### 3.1 Encoder\n",
        "\n",
        "The encoder processes the input sequence and compresses it into a context vector. Given an input sequence $X = (x_1, x_2, ..., x_n)$, the encoder produces a fixed-dimensional context vector $c$ that summarizes the input:\n",
        "\n",
        "$$h_t^{enc} = f_{enc}(h_{t-1}^{enc}, x_t)$$\n",
        "$$c = g(h_1^{enc}, h_2^{enc}, ..., h_n^{enc})$$\n",
        "\n",
        "where $f_{enc}$ is the encoder RNN function and $g$ is typically a function that selects the last hidden state or combines all hidden states.\n",
        "\n",
        "### 3.2 Decoder\n",
        "\n",
        "The decoder generates the output sequence based on the context vector. It computes the probability of each output token $y_t$ given the previous output tokens and the context vector:\n",
        "\n",
        "$$h_t^{dec} = f_{dec}(h_{t-1}^{dec}, y_{t-1}, c)$$\n",
        "$$P(y_t | y_1, y_2, ..., y_{t-1}, X) = softmax(W_s \\cdot h_t^{dec})$$\n",
        "\n",
        "where $f_{dec}$ is the decoder RNN function and $W_s$ is a weight matrix.\n",
        "\n",
        "### 3.3 Attention Mechanism\n",
        "\n",
        "Attention mechanisms enhance the Seq2Seq architecture by allowing the decoder to focus on different parts of the input sequence when generating each output token. This addresses the limitation of using a fixed-length context vector, especially for long sequences.\n",
        "\n",
        "The attention mechanism computes a dynamic context vector $c_t$ for each decoder time step $t$:\n",
        "\n",
        "$$e_{tj} = a(h_{t-1}^{dec}, h_j^{enc})$$\n",
        "$$\\alpha_{tj} = \\frac{\\exp(e_{tj})}{\\sum_{k=1}^{n} \\exp(e_{tk})}$$\n",
        "$$c_t = \\sum_{j=1}^{n} \\alpha_{tj} h_j^{enc}$$\n",
        "\n",
        "where $a$ is an alignment model that scores how well the input at position $j$ matches with the output at position $t$, and $\\alpha_{tj}$ is the normalized attention weight.\n",
        "\n",
        "The decoder then uses this dynamic context vector to generate the output:\n",
        "\n",
        "$$h_t^{dec} = f_{dec}(h_{t-1}^{dec}, y_{t-1}, c_t)$$\n",
        "$$P(y_t | y_1, y_2, ..., y_{t-1}, X) = softmax(W_s \\cdot h_t^{dec})$$"
      ]
    },
    {
      "cell_type": "markdown",
      "metadata": {
        "id": "MFzhrcUSCJwC"
      },
      "source": [
        "## 4. Data Acquisition and Preprocessing\n",
        "\n",
        "Let's begin by setting up our environment and loading the necessary libraries:"
      ]
    },
    {
      "cell_type": "code",
      "execution_count": 1,
      "metadata": {
        "colab": {
          "base_uri": "https://localhost:8080/"
        },
        "id": "Ylx4FrvjCJwC",
        "outputId": "623eb239-f943-4f9f-af4e-fa825b091fcf"
      },
      "outputs": [
        {
          "output_type": "stream",
          "name": "stdout",
          "text": [
            "TensorFlow version: 2.18.0\n"
          ]
        }
      ],
      "source": [
        "# Import required libraries\n",
        "import numpy as np\n",
        "import pandas as pd\n",
        "import tensorflow as tf\n",
        "import re\n",
        "import time\n",
        "import os\n",
        "import matplotlib.pyplot as plt\n",
        "import zipfile\n",
        "import kagglehub\n",
        "import random\n",
        "import gc  # For garbage collection\n",
        "\n",
        "from tensorflow.keras.preprocessing.text import Tokenizer\n",
        "from tensorflow.keras.preprocessing.sequence import pad_sequences\n",
        "from tensorflow.keras.utils import plot_model\n",
        "from tensorflow.keras.models import Model\n",
        "from tensorflow.keras.layers import Input, LSTM, Dense, Embedding, Bidirectional, Attention, Dropout\n",
        "from tensorflow.keras.callbacks import EarlyStopping, ModelCheckpoint, ReduceLROnPlateau\n",
        "from sklearn.model_selection import train_test_split\n",
        "\n",
        "# Configure TensorFlow to use less memory\n",
        "physical_devices = tf.config.list_physical_devices('GPU')\n",
        "try:\n",
        "  tf.config.experimental.set_memory_growth(physical_devices[0], True)\n",
        "except:\n",
        "  # Invalid device or cannot modify virtual devices once initialized\n",
        "  pass\n",
        "\n",
        "print(f\"TensorFlow version: {tf.__version__}\")"
      ]
    },
    {
      "cell_type": "markdown",
      "metadata": {
        "id": "TKk31SoACJwC"
      },
      "source": [
        "### 4.1 Dataset Download\n",
        "\n",
        "We'll use the Cornell Movie Dialog Corpus, a dataset of movie conversations that contains over 220,000 conversation exchanges between more than 10,000 movie characters. This dataset is ideal for training conversational models as it contains natural dialogue patterns."
      ]
    },
    {
      "cell_type": "code",
      "execution_count": 2,
      "metadata": {
        "colab": {
          "base_uri": "https://localhost:8080/"
        },
        "id": "jk74D1jbCJwC",
        "outputId": "685e1ea5-4b7f-47ae-8e04-123dd90cc4a9"
      },
      "outputs": [
        {
          "output_type": "stream",
          "name": "stdout",
          "text": [
            "Downloading from https://www.kaggle.com/api/v1/datasets/download/agsam23/movie-dialogs?dataset_version_number=1...\n"
          ]
        },
        {
          "output_type": "stream",
          "name": "stderr",
          "text": [
            "100%|██████████| 9.41M/9.41M [00:00<00:00, 112MB/s]"
          ]
        },
        {
          "output_type": "stream",
          "name": "stdout",
          "text": [
            "Extracting files...\n"
          ]
        },
        {
          "output_type": "stream",
          "name": "stderr",
          "text": [
            "\n"
          ]
        },
        {
          "output_type": "stream",
          "name": "stdout",
          "text": [
            "Dataset downloaded to: /root/.cache/kagglehub/datasets/agsam23/movie-dialogs/versions/1\n"
          ]
        }
      ],
      "source": [
        "# Download the Cornell Movie Dialog Corpus from Kaggle\n",
        "try:\n",
        "    # Download latest version with correct dataset ID\n",
        "    path = kagglehub.dataset_download(\"agsam23/movie-dialogs\")\n",
        "    print(\"Dataset downloaded to:\", path)\n",
        "except Exception as e:\n",
        "    print(f\"Error downloading dataset: {e}\")\n",
        "    print(\"Attempting alternative download method...\")\n",
        "\n",
        "    # If kagglehub fails, we can try to download directly or use a local copy\n",
        "    if not os.path.exists('cornell-movie-dialogs-corpus'):\n",
        "        os.system(\"mkdir -p cornell-movie-dialogs-corpus\")\n",
        "        os.system(\"wget -q https://www.cs.cornell.edu/~cristian/data/cornell_movie_dialogs_corpus.zip\")\n",
        "        os.system(\"unzip -q cornell_movie_dialogs_corpus.zip -d .\")\n",
        "        os.system(\"mv cornell\\ movie-dialogs\\ corpus/* cornell-movie-dialogs-corpus/\")\n",
        "        path = \"cornell-movie-dialogs-corpus\"\n",
        "        print(\"Dataset downloaded using alternative method to:\", path)\n",
        "    else:\n",
        "        path = \"cornell-movie-dialogs-corpus\"\n",
        "        print(\"Using existing dataset at:\", path)"
      ]
    },
    {
      "cell_type": "markdown",
      "metadata": {
        "id": "uIdRIJ7QCJwD"
      },
      "source": [
        "### 4.2 Data Loading and Exploration\n",
        "\n",
        "Let's load and explore the dataset to understand its structure:"
      ]
    },
    {
      "cell_type": "code",
      "execution_count": 3,
      "metadata": {
        "colab": {
          "base_uri": "https://localhost:8080/"
        },
        "id": "cUbKKihYCJwD",
        "outputId": "42fbb61d-ba01-4bf1-a0f4-f003d45619ba"
      },
      "outputs": [
        {
          "output_type": "stream",
          "name": "stdout",
          "text": [
            "Loaded 304714 movie lines and 83098 conversation records\n"
          ]
        }
      ],
      "source": [
        "# Define file paths for the dataset\n",
        "movie_lines_file = os.path.join(path, 'movie_lines.txt')\n",
        "movie_conversations_file = os.path.join(path, 'movie_conversations.txt')\n",
        "\n",
        "# Check if files exist\n",
        "if not os.path.exists(movie_lines_file) or not os.path.exists(movie_conversations_file):\n",
        "    # Try alternate paths\n",
        "    alternate_path = os.path.join(path, 'cornell movie-dialogs corpus')\n",
        "    movie_lines_file = os.path.join(alternate_path, 'movie_lines.txt')\n",
        "    movie_conversations_file = os.path.join(alternate_path, 'movie_conversations.txt')\n",
        "\n",
        "# Load the movie lines and conversations\n",
        "try:\n",
        "    lines = open(movie_lines_file, encoding='utf-8', errors='ignore').read().split('\\n')\n",
        "    conv_lines = open(movie_conversations_file, encoding='utf-8', errors='ignore').read().split('\\n')\n",
        "    print(f\"Loaded {len(lines)} movie lines and {len(conv_lines)} conversation records\")\n",
        "except Exception as e:\n",
        "    print(f\"Error loading dataset files: {e}\")\n",
        "    raise"
      ]
    },
    {
      "cell_type": "code",
      "execution_count": 4,
      "metadata": {
        "colab": {
          "base_uri": "https://localhost:8080/"
        },
        "id": "CGiXdbHXCJwE",
        "outputId": "2bfdd44f-c094-4a77-b712-fd453d8ab478"
      },
      "outputs": [
        {
          "output_type": "stream",
          "name": "stdout",
          "text": [
            "Movie lines (first 3):\n",
            "  L1045 +++$+++ u0 +++$+++ m0 +++$+++ BIANCA +++$+++ They do not!\n",
            "  L1044 +++$+++ u2 +++$+++ m0 +++$+++ CAMERON +++$+++ They do to!\n",
            "  L985 +++$+++ u0 +++$+++ m0 +++$+++ BIANCA +++$+++ I hope so.\n",
            "\n",
            "Conversation lines (first 3):\n",
            "  u0 +++$+++ u2 +++$+++ m0 +++$+++ ['L194', 'L195', 'L196', 'L197']\n",
            "  u0 +++$+++ u2 +++$+++ m0 +++$+++ ['L198', 'L199']\n",
            "  u0 +++$+++ u2 +++$+++ m0 +++$+++ ['L200', 'L201', 'L202', 'L203']\n"
          ]
        }
      ],
      "source": [
        "# Let's take a look at a few lines from each file\n",
        "print(\"Movie lines (first 3):\")\n",
        "for i in range(min(3, len(lines))):\n",
        "    print(f\"  {lines[i]}\")\n",
        "\n",
        "print(\"\\nConversation lines (first 3):\")\n",
        "for i in range(min(3, len(conv_lines))):\n",
        "    print(f\"  {conv_lines[i]}\")"
      ]
    },
    {
      "cell_type": "markdown",
      "metadata": {
        "id": "2HP4GMIqCJwE"
      },
      "source": [
        "### 4.3 Data Preprocessing\n",
        "\n",
        "The data preprocessing phase is crucial for preparing our conversation data for the neural model. We'll need to:\n",
        "\n",
        "1. Parse the data files to extract conversations\n",
        "2. Clean and normalize the text\n",
        "3. Create input-output pairs (questions and answers)\n",
        "4. Filter conversations by length\n",
        "5. Tokenize and convert to sequences\n",
        "6. Pad sequences to uniform length\n",
        "\n",
        "Let's start by creating a dictionary to map each line ID to its text:"
      ]
    },
    {
      "cell_type": "code",
      "execution_count": 5,
      "metadata": {
        "colab": {
          "base_uri": "https://localhost:8080/"
        },
        "id": "_mfTYzrjCJwF",
        "outputId": "c1b34e91-b6fb-44dd-886c-0af50446a017"
      },
      "outputs": [
        {
          "output_type": "stream",
          "name": "stdout",
          "text": [
            "Mapped 304713 line IDs to their text\n"
          ]
        },
        {
          "output_type": "execute_result",
          "data": {
            "text/plain": [
              "5"
            ]
          },
          "metadata": {},
          "execution_count": 5
        }
      ],
      "source": [
        "# Create a dictionary to map each line ID to its text\n",
        "id_to_line = {}\n",
        "for line in lines:\n",
        "    parts = line.split(' +++$+++ ')\n",
        "    if len(parts) == 5:\n",
        "        id_to_line[parts[0]] = parts[4]\n",
        "\n",
        "print(f\"Mapped {len(id_to_line)} line IDs to their text\")\n",
        "\n",
        "# Free up memory\n",
        "del lines\n",
        "gc.collect()"
      ]
    },
    {
      "cell_type": "code",
      "execution_count": 6,
      "metadata": {
        "colab": {
          "base_uri": "https://localhost:8080/"
        },
        "id": "bx6BJhegCJwF",
        "outputId": "16c18950-f477-46c2-9510-a2ed62f37534"
      },
      "outputs": [
        {
          "output_type": "stream",
          "name": "stdout",
          "text": [
            "Extracted 83097 conversations\n"
          ]
        },
        {
          "output_type": "execute_result",
          "data": {
            "text/plain": [
              "0"
            ]
          },
          "metadata": {},
          "execution_count": 6
        }
      ],
      "source": [
        "# Extract conversations from the conversation file\n",
        "conversations = []\n",
        "for line in conv_lines[:-1]:  # Skip the last empty line if present\n",
        "    parts = line.split(' +++$+++ ')\n",
        "    if len(parts) == 4:\n",
        "        # Extract the line IDs from the conversation\n",
        "        line_ids = parts[3].strip('[]').replace(\"'\", \"\").replace(\" \", \"\")\n",
        "        conversations.append(line_ids.split(','))\n",
        "\n",
        "print(f\"Extracted {len(conversations)} conversations\")\n",
        "\n",
        "# Free up memory\n",
        "del conv_lines\n",
        "gc.collect()"
      ]
    },
    {
      "cell_type": "code",
      "execution_count": 7,
      "metadata": {
        "colab": {
          "base_uri": "https://localhost:8080/"
        },
        "id": "cOlA4KuyCJwF",
        "outputId": "3dd9b6da-7913-46ee-f67c-3f56f7671c8d"
      },
      "outputs": [
        {
          "output_type": "stream",
          "name": "stdout",
          "text": [
            "Created 13072 question-answer pairs\n",
            "Q: Can we make this quick?  Roxanne Korrine and Andrew Barrett are having an incredibly horrendous public break- up on the quad.  Again.\n",
            "A: Well, I thought we'd start with pronunciation, if that's okay with you.\n",
            "\n",
            "Q: Well, I thought we'd start with pronunciation, if that's okay with you.\n",
            "A: Not the hacking and gagging and spitting part.  Please.\n",
            "\n",
            "Q: Not the hacking and gagging and spitting part.  Please.\n",
            "A: Okay... then how 'bout we try out some French cuisine.  Saturday?  Night?\n",
            "\n",
            "Q: You're asking me out.  That's so cute. What's your name again?\n",
            "A: Forget it.\n",
            "\n",
            "Q: No, no, it's my fault -- we didn't have a proper introduction ---\n",
            "A: Cameron.\n",
            "\n"
          ]
        },
        {
          "output_type": "execute_result",
          "data": {
            "text/plain": [
              "0"
            ]
          },
          "metadata": {},
          "execution_count": 7
        }
      ],
      "source": [
        "# Create question-answer pairs\n",
        "# Using a much smaller subset for memory efficiency\n",
        "# Take only a fraction of the conversations\n",
        "MAX_CONVERSATIONS = 5000  # Limit the number of conversations used\n",
        "limited_conversations = conversations[:MAX_CONVERSATIONS]\n",
        "\n",
        "questions = []\n",
        "answers = []\n",
        "\n",
        "for conversation in limited_conversations:\n",
        "    for i in range(len(conversation) - 1):\n",
        "        # Consider each pair of consecutive lines as a question-answer pair\n",
        "        if conversation[i] in id_to_line and conversation[i+1] in id_to_line:\n",
        "            questions.append(id_to_line[conversation[i]])\n",
        "            answers.append(id_to_line[conversation[i+1]])\n",
        "\n",
        "print(f\"Created {len(questions)} question-answer pairs\")\n",
        "\n",
        "# Display a few example question-answer pairs\n",
        "for i in range(min(5, len(questions))):\n",
        "    print(f\"Q: {questions[i]}\")\n",
        "    print(f\"A: {answers[i]}\")\n",
        "    print()\n",
        "\n",
        "# Free up memory\n",
        "del conversations, limited_conversations\n",
        "gc.collect()"
      ]
    },
    {
      "cell_type": "markdown",
      "metadata": {
        "id": "WBbNSAPACJwF"
      },
      "source": [
        "### 4.4 Text Cleaning\n",
        "\n",
        "We'll define a function to clean the text by normalizing contractions, removing special characters, and converting to lowercase:"
      ]
    },
    {
      "cell_type": "code",
      "execution_count": 8,
      "metadata": {
        "colab": {
          "base_uri": "https://localhost:8080/"
        },
        "id": "_hLv7kf7CJwF",
        "outputId": "f5c5c1f2-5e84-465e-c5c3-175f851110c9"
      },
      "outputs": [
        {
          "output_type": "stream",
          "name": "stdout",
          "text": [
            "Cleaned 1000/13072 pairs\n",
            "Cleaned 2000/13072 pairs\n",
            "Cleaned 3000/13072 pairs\n",
            "Cleaned 4000/13072 pairs\n",
            "Cleaned 5000/13072 pairs\n",
            "Cleaned 6000/13072 pairs\n",
            "Cleaned 7000/13072 pairs\n",
            "Cleaned 8000/13072 pairs\n",
            "Cleaned 9000/13072 pairs\n",
            "Cleaned 10000/13072 pairs\n",
            "Cleaned 11000/13072 pairs\n",
            "Cleaned 12000/13072 pairs\n",
            "Cleaned 13000/13072 pairs\n",
            "Cleaned 13072/13072 pairs\n",
            "Original Q: Can we make this quick?  Roxanne Korrine and Andrew Barrett are having an incredibly horrendous public break- up on the quad.  Again.\n",
            "Cleaned Q: can we make this quick roxanne korrine and andrew barrett are having an incredibly horrendous public break up on the quad again\n",
            "Original A: Well, I thought we'd start with pronunciation, if that's okay with you.\n",
            "Cleaned A: well i thought we would start with pronunciation if that is okay with you\n",
            "\n",
            "Original Q: Well, I thought we'd start with pronunciation, if that's okay with you.\n",
            "Cleaned Q: well i thought we would start with pronunciation if that is okay with you\n",
            "Original A: Not the hacking and gagging and spitting part.  Please.\n",
            "Cleaned A: not the hacking and gagging and spitting part please\n",
            "\n",
            "Original Q: Not the hacking and gagging and spitting part.  Please.\n",
            "Cleaned Q: not the hacking and gagging and spitting part please\n",
            "Original A: Okay... then how 'bout we try out some French cuisine.  Saturday?  Night?\n",
            "Cleaned A: okay then how 'bout we try out some french cuisine saturday night\n",
            "\n"
          ]
        },
        {
          "output_type": "execute_result",
          "data": {
            "text/plain": [
              "0"
            ]
          },
          "metadata": {},
          "execution_count": 8
        }
      ],
      "source": [
        "def clean_text(text):\n",
        "    \"\"\"Clean and normalize text for better processing.\"\"\"\n",
        "    # Convert to lowercase\n",
        "    text = text.lower()\n",
        "\n",
        "    # Expand contractions\n",
        "    text = re.sub(r\"i'm\", \"i am\", text)\n",
        "    text = re.sub(r\"he's\", \"he is\", text)\n",
        "    text = re.sub(r\"she's\", \"she is\", text)\n",
        "    text = re.sub(r\"it's\", \"it is\", text)\n",
        "    text = re.sub(r\"that's\", \"that is\", text)\n",
        "    text = re.sub(r\"what's\", \"what is\", text)\n",
        "    text = re.sub(r\"where's\", \"where is\", text)\n",
        "    text = re.sub(r\"how's\", \"how is\", text)\n",
        "    text = re.sub(r\"'ll\", \" will\", text)\n",
        "    text = re.sub(r\"'ve\", \" have\", text)\n",
        "    text = re.sub(r\"'re\", \" are\", text)\n",
        "    text = re.sub(r\"'d\", \" would\", text)\n",
        "    text = re.sub(r\"won't\", \"will not\", text)\n",
        "    text = re.sub(r\"can't\", \"cannot\", text)\n",
        "    text = re.sub(r\"n't\", \" not\", text)\n",
        "\n",
        "    # Remove special characters and extra spaces\n",
        "    text = re.sub(r\"[-()\\\"#/@;:<>{}`+=~|.!?,]\", \"\", text)\n",
        "    text = \" \".join(text.split())\n",
        "\n",
        "    return text\n",
        "\n",
        "# Clean the questions and answers\n",
        "# Process in batches to avoid memory issues\n",
        "batch_size = 1000\n",
        "clean_questions = []\n",
        "clean_answers = []\n",
        "\n",
        "for i in range(0, len(questions), batch_size):\n",
        "    batch_q = questions[i:i+batch_size]\n",
        "    batch_a = answers[i:i+batch_size]\n",
        "\n",
        "    clean_questions.extend([clean_text(q) for q in batch_q])\n",
        "    clean_answers.extend([clean_text(a) for a in batch_a])\n",
        "\n",
        "    # Print progress\n",
        "    print(f\"Cleaned {min(i+batch_size, len(questions))}/{len(questions)} pairs\")\n",
        "\n",
        "# Display some examples to see the effect of cleaning\n",
        "for i in range(3):\n",
        "    print(f\"Original Q: {questions[i]}\")\n",
        "    print(f\"Cleaned Q: {clean_questions[i]}\")\n",
        "    print(f\"Original A: {answers[i]}\")\n",
        "    print(f\"Cleaned A: {clean_answers[i]}\")\n",
        "    print()\n",
        "\n",
        "# Free up memory\n",
        "del questions, answers\n",
        "gc.collect()"
      ]
    },
    {
      "cell_type": "markdown",
      "metadata": {
        "id": "t2kcpN05CJwF"
      },
      "source": [
        "### 4.5 Filtering by Sequence Length\n",
        "\n",
        "To make our training more efficient, we'll filter out very short and very long sequences:"
      ]
    },
    {
      "cell_type": "code",
      "execution_count": 9,
      "metadata": {
        "colab": {
          "base_uri": "https://localhost:8080/"
        },
        "id": "FnGO9AUPCJwF",
        "outputId": "ebaf08d5-d450-4e75-9dd0-43bfd314bce0"
      },
      "outputs": [
        {
          "output_type": "stream",
          "name": "stdout",
          "text": [
            "Question length statistics:\n",
            "  Mean: 10.54\n",
            "  Median: 7.00\n",
            "  95th percentile: 32.00\n",
            "  Max: 218\n",
            "\n",
            "Answer length statistics:\n",
            "  Mean: 10.81\n",
            "  Median: 7.00\n",
            "  95th percentile: 32.00\n",
            "  Max: 197\n"
          ]
        },
        {
          "output_type": "execute_result",
          "data": {
            "text/plain": [
              "0"
            ]
          },
          "metadata": {},
          "execution_count": 9
        }
      ],
      "source": [
        "# Calculate length statistics without plotting, to save memory\n",
        "question_lengths = [len(question.split()) for question in clean_questions]\n",
        "answer_lengths = [len(answer.split()) for answer in clean_answers]\n",
        "\n",
        "# Calculate some statistics\n",
        "print(f\"Question length statistics:\")\n",
        "print(f\"  Mean: {np.mean(question_lengths):.2f}\")\n",
        "print(f\"  Median: {np.median(question_lengths):.2f}\")\n",
        "print(f\"  95th percentile: {np.percentile(question_lengths, 95):.2f}\")\n",
        "print(f\"  Max: {np.max(question_lengths)}\")\n",
        "print()\n",
        "print(f\"Answer length statistics:\")\n",
        "print(f\"  Mean: {np.mean(answer_lengths):.2f}\")\n",
        "print(f\"  Median: {np.median(answer_lengths):.2f}\")\n",
        "print(f\"  95th percentile: {np.percentile(answer_lengths, 95):.2f}\")\n",
        "print(f\"  Max: {np.max(answer_lengths)}\")\n",
        "\n",
        "# Free up memory\n",
        "del question_lengths, answer_lengths\n",
        "gc.collect()"
      ]
    },
    {
      "cell_type": "code",
      "execution_count": 10,
      "metadata": {
        "colab": {
          "base_uri": "https://localhost:8080/"
        },
        "id": "Fvx1jLTgCJwF",
        "outputId": "a95939f9-afb3-4055-98ed-5efde3976165"
      },
      "outputs": [
        {
          "output_type": "stream",
          "name": "stdout",
          "text": [
            "After filtering, we have 5259 question-answer pairs\n",
            "That's 40.23% of the original data\n",
            "Q: how was it\n",
            "A: not good\n",
            "\n",
            "Q: be polite say hello this is candy\n",
            "A: hello and goodbye\n",
            "\n",
            "Q: he has a great body\n",
            "A: everybody has a great body now\n",
            "\n"
          ]
        },
        {
          "output_type": "execute_result",
          "data": {
            "text/plain": [
              "0"
            ]
          },
          "metadata": {},
          "execution_count": 10
        }
      ],
      "source": [
        "# Filter out sequences that are too short or too long\n",
        "MIN_LENGTH = 2  # Minimum number of words\n",
        "MAX_LENGTH = 12  # Maximum number of words (reduced from 20 to 12 to save memory)\n",
        "\n",
        "# Filter pairs where both question and answer are within the length constraints\n",
        "filtered_pairs = []\n",
        "for i, (question, answer) in enumerate(zip(clean_questions, clean_answers)):\n",
        "    q_len = len(question.split())\n",
        "    a_len = len(answer.split())\n",
        "    if MIN_LENGTH <= q_len <= MAX_LENGTH and MIN_LENGTH <= a_len <= MAX_LENGTH:\n",
        "        filtered_pairs.append((question, answer))\n",
        "\n",
        "# Separate the filtered pairs\n",
        "filtered_questions, filtered_answers = zip(*filtered_pairs)\n",
        "\n",
        "print(f\"After filtering, we have {len(filtered_questions)} question-answer pairs\")\n",
        "print(f\"That's {len(filtered_questions) / len(clean_questions) * 100:.2f}% of the original data\")\n",
        "\n",
        "# Show some examples of filtered pairs\n",
        "for i in range(3):\n",
        "    idx = random.randint(0, len(filtered_questions) - 1)\n",
        "    print(f\"Q: {filtered_questions[idx]}\")\n",
        "    print(f\"A: {filtered_answers[idx]}\")\n",
        "    print()\n",
        "\n",
        "# Free up memory\n",
        "del clean_questions, clean_answers, filtered_pairs\n",
        "gc.collect()"
      ]
    },
    {
      "cell_type": "markdown",
      "metadata": {
        "id": "Dq4EbuMJCJwG"
      },
      "source": [
        "### 4.6 Tokenization and Sequence Conversion\n",
        "\n",
        "Now, we'll tokenize the text and convert it to sequences of integers. To reduce memory usage, we'll use a smaller subset of the data and smaller vocabulary size:"
      ]
    },
    {
      "cell_type": "code",
      "execution_count": 11,
      "metadata": {
        "colab": {
          "base_uri": "https://localhost:8080/"
        },
        "id": "7IHWHbWiCJwG",
        "outputId": "a0e222ab-403d-47cd-8217-eedd0cc4797f"
      },
      "outputs": [
        {
          "output_type": "stream",
          "name": "stdout",
          "text": [
            "Using 2000 samples (approximately 3.3% of the full dataset)\n",
            "Vocabulary size: 3013\n",
            "Total unique words: 3012\n"
          ]
        }
      ],
      "source": [
        "# Parameters - using smaller values to prevent system crashes\n",
        "VOCAB_SIZE = 5000  # Reduced vocabulary size (even further from 10000)\n",
        "MAX_SEQ_LENGTH = MAX_LENGTH  # Maximum sequence length\n",
        "# Use just a small fraction of the data to avoid memory issues\n",
        "NUM_SAMPLES = min(2000, len(filtered_questions))\n",
        "\n",
        "print(f\"Using {NUM_SAMPLES} samples (approximately {NUM_SAMPLES / 60000 * 100:.1f}% of the full dataset)\")\n",
        "\n",
        "# Take a subset of the filtered questions and answers\n",
        "subset_questions = filtered_questions[:NUM_SAMPLES]\n",
        "subset_answers = filtered_answers[:NUM_SAMPLES]\n",
        "\n",
        "# Free up memory\n",
        "del filtered_questions, filtered_answers\n",
        "gc.collect()\n",
        "\n",
        "# Create a tokenizer\n",
        "tokenizer = Tokenizer(num_words=VOCAB_SIZE, oov_token=\"<OOV>\")\n",
        "tokenizer.fit_on_texts(subset_questions + subset_answers)\n",
        "\n",
        "# Create word-to-index and index-to-word mappings\n",
        "word_index = tokenizer.word_index\n",
        "index_word = {v: k for k, v in word_index.items()}\n",
        "\n",
        "print(f\"Vocabulary size: {min(len(word_index) + 1, VOCAB_SIZE)}\")\n",
        "print(f\"Total unique words: {len(word_index)}\")"
      ]
    },
    {
      "cell_type": "code",
      "execution_count": 12,
      "metadata": {
        "colab": {
          "base_uri": "https://localhost:8080/"
        },
        "id": "9IWq1tz9CJwG",
        "outputId": "fe875105-8e8d-4c80-e17b-0bcb9b2759db"
      },
      "outputs": [
        {
          "output_type": "stream",
          "name": "stdout",
          "text": [
            "Encoder input shape: (2000, 12)\n",
            "Decoder input shape: (2000, 12)\n",
            "Decoder output shape: (2000, 12)\n"
          ]
        }
      ],
      "source": [
        "# Convert text to sequences of integers\n",
        "question_sequences = tokenizer.texts_to_sequences(subset_questions)\n",
        "answer_sequences = tokenizer.texts_to_sequences(subset_answers)\n",
        "\n",
        "# Free up memory\n",
        "del subset_questions, subset_answers\n",
        "gc.collect()\n",
        "\n",
        "# Add start and end tokens to the answer sequences\n",
        "# We'll use index 1 for <START> and index 2 for <END>\n",
        "START_TOKEN = tokenizer.word_index.get('<start>', 1)\n",
        "END_TOKEN = tokenizer.word_index.get('<end>', 2)\n",
        "\n",
        "# Add tokens to the answer sequences\n",
        "decoder_input_sequences = [[START_TOKEN] + seq for seq in answer_sequences]\n",
        "decoder_output_sequences = [seq + [END_TOKEN] for seq in answer_sequences]\n",
        "\n",
        "# Free up memory\n",
        "gc.collect()\n",
        "\n",
        "# Pad the sequences\n",
        "encoder_input_data = pad_sequences(\n",
        "    question_sequences,\n",
        "    maxlen=MAX_SEQ_LENGTH,\n",
        "    padding='post'\n",
        ")\n",
        "\n",
        "decoder_input_data = pad_sequences(\n",
        "    decoder_input_sequences,\n",
        "    maxlen=MAX_SEQ_LENGTH,\n",
        "    padding='post'\n",
        ")\n",
        "\n",
        "decoder_output_data = pad_sequences(\n",
        "    decoder_output_sequences,\n",
        "    maxlen=MAX_SEQ_LENGTH,\n",
        "    padding='post'\n",
        ")\n",
        "\n",
        "# Free up memory\n",
        "del question_sequences, answer_sequences, decoder_input_sequences, decoder_output_sequences\n",
        "gc.collect()\n",
        "\n",
        "print(f\"Encoder input shape: {encoder_input_data.shape}\")\n",
        "print(f\"Decoder input shape: {decoder_input_data.shape}\")\n",
        "print(f\"Decoder output shape: {decoder_output_data.shape}\")"
      ]
    },
    {
      "cell_type": "code",
      "execution_count": 13,
      "metadata": {
        "colab": {
          "base_uri": "https://localhost:8080/"
        },
        "id": "R8tbjFm9CJwG",
        "outputId": "f6eec8a5-bb57-49d1-8744-bc8b0f209411"
      },
      "outputs": [
        {
          "output_type": "stream",
          "name": "stdout",
          "text": [
            "Using sparse categorical crossentropy instead of one-hot encoding to save memory\n"
          ]
        }
      ],
      "source": [
        "# For this memory-optimized version, we'll use sparse categorical crossentropy\n",
        "# instead of converting to one-hot encoding, which saves a lot of memory\n",
        "print(\"Using sparse categorical crossentropy instead of one-hot encoding to save memory\")"
      ]
    },
    {
      "cell_type": "markdown",
      "metadata": {
        "id": "5sHH9MTfCJwG"
      },
      "source": [
        "### 4.7 Preparing Word Embeddings\n",
        "\n",
        "We'll use pre-trained GloVe word embeddings to initialize our embedding layer. Using standard GloVe embeddings as requested:"
      ]
    },
    {
      "cell_type": "code",
      "execution_count": 14,
      "metadata": {
        "colab": {
          "base_uri": "https://localhost:8080/"
        },
        "id": "knq19I2nCJwG",
        "outputId": "ce2a35f0-8246-4f89-879f-acb679d2af21"
      },
      "outputs": [
        {
          "output_type": "stream",
          "name": "stdout",
          "text": [
            "Downloading GloVe embeddings from https://nlp.stanford.edu/data/glove.6B.zip\n",
            "Extracting GloVe embeddings...\n",
            "Extraction complete\n",
            "Loading GloVe embeddings of dimension 50...\n",
            "Found 400000 word vectors in GloVe\n"
          ]
        }
      ],
      "source": [
        "# Define parameters for word embeddings\n",
        "EMBEDDING_DIM = 50  # Using standard 50d GloVe embeddings\n",
        "GLOVE_DIR = 'glove-embeddings'\n",
        "GLOVE_URL = \"https://nlp.stanford.edu/data/glove.6B.zip\"\n",
        "GLOVE_FILE = \"glove.6B.zip\"\n",
        "\n",
        "# Download GloVe embeddings if not already present\n",
        "if not os.path.exists(GLOVE_DIR):\n",
        "    os.makedirs(GLOVE_DIR)\n",
        "\n",
        "    if not os.path.exists(GLOVE_FILE):\n",
        "        print(f\"Downloading GloVe embeddings from {GLOVE_URL}\")\n",
        "        os.system(f\"wget -q {GLOVE_URL} -O {GLOVE_FILE}\")\n",
        "\n",
        "    print(\"Extracting GloVe embeddings...\")\n",
        "    with zipfile.ZipFile(GLOVE_FILE, 'r') as zip_ref:\n",
        "        zip_ref.extractall(GLOVE_DIR)\n",
        "    print(\"Extraction complete\")\n",
        "\n",
        "# Load the GloVe embeddings\n",
        "embeddings_index = {}\n",
        "print(f\"Loading GloVe embeddings of dimension {EMBEDDING_DIM}...\")\n",
        "with open(os.path.join(GLOVE_DIR, f'glove.6B.{EMBEDDING_DIM}d.txt'), encoding='utf8') as f:\n",
        "    for line in f:\n",
        "        values = line.split()\n",
        "        word = values[0]\n",
        "        coefs = np.asarray(values[1:], dtype='float32')\n",
        "        embeddings_index[word] = coefs\n",
        "\n",
        "print(f\"Found {len(embeddings_index)} word vectors in GloVe\")"
      ]
    },
    {
      "cell_type": "code",
      "execution_count": 15,
      "metadata": {
        "colab": {
          "base_uri": "https://localhost:8080/"
        },
        "id": "olypV8WLCJwH",
        "outputId": "a65807be-b18d-49c5-9f73-743a83c10e41"
      },
      "outputs": [
        {
          "output_type": "stream",
          "name": "stdout",
          "text": [
            "Found embeddings for 90.54% of vocabulary\n"
          ]
        },
        {
          "output_type": "execute_result",
          "data": {
            "text/plain": [
              "0"
            ]
          },
          "metadata": {},
          "execution_count": 15
        }
      ],
      "source": [
        "# Create an embedding matrix for our vocabulary\n",
        "embedding_matrix = np.zeros((VOCAB_SIZE, EMBEDDING_DIM))\n",
        "for word, i in word_index.items():\n",
        "    if i >= VOCAB_SIZE:\n",
        "        continue\n",
        "    embedding_vector = embeddings_index.get(word)\n",
        "    if embedding_vector is not None:\n",
        "        # Words not found in embedding index will be all-zeros\n",
        "        embedding_matrix[i] = embedding_vector\n",
        "\n",
        "# Calculate the percentage of words in our vocabulary that have pre-trained embeddings\n",
        "non_zero_elements = np.sum(np.sum(embedding_matrix, axis=1) != 0)\n",
        "print(f\"Found embeddings for {non_zero_elements / min(len(word_index), VOCAB_SIZE-1) * 100:.2f}% of vocabulary\")\n",
        "\n",
        "# Free up memory\n",
        "del embeddings_index\n",
        "gc.collect()"
      ]
    },
    {
      "cell_type": "markdown",
      "metadata": {
        "id": "PIgv02nVCJwH"
      },
      "source": [
        "### 4.8 Splitting the Data\n",
        "\n",
        "We'll split our data into training, validation, and test sets. We'll do this very carefully to avoid memory issues:"
      ]
    },
    {
      "cell_type": "code",
      "execution_count": 16,
      "metadata": {
        "colab": {
          "base_uri": "https://localhost:8080/"
        },
        "id": "45G6vko1CJwH",
        "outputId": "37d2fbe2-2125-4646-bb2c-8315c1266dd7"
      },
      "outputs": [
        {
          "output_type": "stream",
          "name": "stdout",
          "text": [
            "Training set shapes:\n",
            "  Encoder input: (1400, 12)\n",
            "  Decoder input: (1400, 12)\n",
            "  Decoder output: (1400, 12)\n",
            "\n",
            "Validation set shapes:\n",
            "  Encoder input: (300, 12)\n",
            "  Decoder input: (300, 12)\n",
            "  Decoder output: (300, 12)\n",
            "\n",
            "Test set shapes:\n",
            "  Encoder input: (300, 12)\n",
            "  Decoder input: (300, 12)\n",
            "  Decoder output: (300, 12)\n"
          ]
        }
      ],
      "source": [
        "# Split the data - all in one go to avoid memory issues with multiple splits\n",
        "# We'll use a 70-15-15 split (train-val-test) instead of the previous method\n",
        "# which was causing memory issues\n",
        "\n",
        "# First create indices for the splits\n",
        "indices = np.arange(encoder_input_data.shape[0])\n",
        "np.random.seed(42)\n",
        "np.random.shuffle(indices)\n",
        "\n",
        "# Calculate split points\n",
        "train_split = int(0.7 * len(indices))\n",
        "val_split = int(0.85 * len(indices))\n",
        "\n",
        "# Split indices\n",
        "train_indices = indices[:train_split]\n",
        "val_indices = indices[train_split:val_split]\n",
        "test_indices = indices[val_split:]\n",
        "\n",
        "# Create the actual splits\n",
        "encoder_train = encoder_input_data[train_indices]\n",
        "decoder_input_train = decoder_input_data[train_indices]\n",
        "decoder_output_train = decoder_output_data[train_indices]\n",
        "\n",
        "encoder_val = encoder_input_data[val_indices]\n",
        "decoder_input_val = decoder_input_data[val_indices]\n",
        "decoder_output_val = decoder_output_data[val_indices]\n",
        "\n",
        "encoder_test = encoder_input_data[test_indices]\n",
        "decoder_input_test = decoder_input_data[test_indices]\n",
        "decoder_output_test = decoder_output_data[test_indices]\n",
        "\n",
        "# Free up memory of original arrays\n",
        "del encoder_input_data, decoder_input_data, decoder_output_data, indices, train_indices, val_indices, test_indices\n",
        "gc.collect()\n",
        "\n",
        "print(f\"Training set shapes:\")\n",
        "print(f\"  Encoder input: {encoder_train.shape}\")\n",
        "print(f\"  Decoder input: {decoder_input_train.shape}\")\n",
        "print(f\"  Decoder output: {decoder_output_train.shape}\")\n",
        "print()\n",
        "print(f\"Validation set shapes:\")\n",
        "print(f\"  Encoder input: {encoder_val.shape}\")\n",
        "print(f\"  Decoder input: {decoder_input_val.shape}\")\n",
        "print(f\"  Decoder output: {decoder_output_val.shape}\")\n",
        "print()\n",
        "print(f\"Test set shapes:\")\n",
        "print(f\"  Encoder input: {encoder_test.shape}\")\n",
        "print(f\"  Decoder input: {decoder_input_test.shape}\")\n",
        "print(f\"  Decoder output: {decoder_output_test.shape}\")"
      ]
    },
    {
      "cell_type": "markdown",
      "metadata": {
        "id": "Z9ARvvRmCJwH"
      },
      "source": [
        "## 5. Model Implementation\n",
        "\n",
        "Now we'll implement our sequence-to-sequence model with attention. We'll use a bidirectional LSTM for the encoder and an LSTM with attention for the decoder. We'll use smaller hidden sizes to reduce memory usage."
      ]
    },
    {
      "cell_type": "code",
      "execution_count": 17,
      "metadata": {
        "id": "oHT7mhV4CJwH"
      },
      "outputs": [],
      "source": [
        "# Define model parameters - Reduced sizes for memory efficiency\n",
        "HIDDEN_SIZE = 64  # Reduced from 128 to 64\n",
        "BATCH_SIZE = 32   # Reduced from 64 to 32\n",
        "EPOCHS = 10      # Reduced from 15 to 10"
      ]
    },
    {
      "cell_type": "code",
      "execution_count": 18,
      "metadata": {
        "id": "zDYnyE0_CJwH"
      },
      "outputs": [],
      "source": [
        "def build_model(vocab_size, max_seq_length, embedding_dim, hidden_size, embedding_matrix=None):\n",
        "    \"\"\"Build a simplified sequence-to-sequence model.\"\"\"\n",
        "\n",
        "    # Encoder\n",
        "    encoder_inputs = Input(shape=(max_seq_length,), name='encoder_inputs')\n",
        "\n",
        "    # Embedding layer - optionally initialized with pre-trained embeddings\n",
        "    if embedding_matrix is not None:\n",
        "        embedding_layer = Embedding(\n",
        "            input_dim=vocab_size,\n",
        "            output_dim=embedding_dim,\n",
        "            weights=[embedding_matrix],\n",
        "            input_length=max_seq_length,\n",
        "            mask_zero=True,\n",
        "            name='embedding_layer'\n",
        "        )\n",
        "    else:\n",
        "        embedding_layer = Embedding(\n",
        "            input_dim=vocab_size,\n",
        "            output_dim=embedding_dim,\n",
        "            input_length=max_seq_length,\n",
        "            mask_zero=True,\n",
        "            name='embedding_layer'\n",
        "        )\n",
        "\n",
        "    # Apply embedding to encoder inputs\n",
        "    encoder_embeddings = embedding_layer(encoder_inputs)\n",
        "\n",
        "    # Bidirectional LSTM for the encoder\n",
        "    encoder = Bidirectional(\n",
        "        LSTM(hidden_size, return_sequences=True, return_state=True),\n",
        "        name='bidirectional_encoder'\n",
        "    )\n",
        "\n",
        "    encoder_outputs, forward_h, forward_c, backward_h, backward_c = encoder(encoder_embeddings)\n",
        "\n",
        "    # Concatenate the forward and backward states\n",
        "    encoder_h = tf.keras.layers.Concatenate()([forward_h, backward_h])\n",
        "    encoder_c = tf.keras.layers.Concatenate()([forward_c, backward_c])\n",
        "\n",
        "    # Decoder\n",
        "    decoder_inputs = Input(shape=(max_seq_length,), name='decoder_inputs')\n",
        "    decoder_embeddings = embedding_layer(decoder_inputs)\n",
        "\n",
        "    # Use a projection layer to match dimensions for the decoder initial states\n",
        "    projection_layer = Dense(hidden_size, name='projection_layer')\n",
        "    projected_h = projection_layer(encoder_h)\n",
        "    projected_c = projection_layer(encoder_c)\n",
        "\n",
        "    # LSTM decoder\n",
        "    decoder_lstm = LSTM(\n",
        "        hidden_size,\n",
        "        return_sequences=True,\n",
        "        return_state=True,\n",
        "        name='decoder_lstm'\n",
        "    )\n",
        "\n",
        "    decoder_outputs, _, _ = decoder_lstm(\n",
        "        decoder_embeddings,\n",
        "        initial_state=[projected_h, projected_c]\n",
        "    )\n",
        "\n",
        "    # Add dropout for regularization\n",
        "    decoder_outputs = Dropout(0.3)(decoder_outputs)\n",
        "\n",
        "    # Apply dense layer with softmax activation for word prediction\n",
        "    decoder_dense = Dense(vocab_size, activation='softmax', name='decoder_output')\n",
        "    decoder_outputs = decoder_dense(decoder_outputs)\n",
        "\n",
        "    # Create the model\n",
        "    model = Model([encoder_inputs, decoder_inputs], decoder_outputs)\n",
        "\n",
        "    # Compile the model with sparse categorical crossentropy to save memory\n",
        "    model.compile(\n",
        "        optimizer='adam',\n",
        "        loss='sparse_categorical_crossentropy',  # Changed from categorical_crossentropy\n",
        "        metrics=['accuracy']\n",
        "    )\n",
        "\n",
        "    # Create encoder model (for inference)\n",
        "    encoder_model = Model(\n",
        "        encoder_inputs,\n",
        "        [encoder_outputs, projected_h, projected_c]\n",
        "    )\n",
        "\n",
        "    # Create decoder model (for inference)\n",
        "    decoder_state_input_h = Input(shape=(hidden_size,), name='decoder_state_input_h')\n",
        "    decoder_state_input_c = Input(shape=(hidden_size,), name='decoder_state_input_c')\n",
        "    decoder_encoder_outputs = Input(shape=(max_seq_length, hidden_size * 2), name='decoder_encoder_outputs')\n",
        "\n",
        "    decoder_outputs, state_h, state_c = decoder_lstm(\n",
        "        decoder_embeddings,\n",
        "        initial_state=[decoder_state_input_h, decoder_state_input_c]\n",
        "    )\n",
        "\n",
        "    decoder_outputs = decoder_dense(decoder_outputs)\n",
        "\n",
        "    decoder_model = Model(\n",
        "        [decoder_inputs, decoder_state_input_h, decoder_state_input_c, decoder_encoder_outputs],\n",
        "        [decoder_outputs, state_h, state_c]\n",
        "    )\n",
        "\n",
        "    return model, encoder_model, decoder_model"
      ]
    },
    {
      "cell_type": "code",
      "execution_count": 19,
      "metadata": {
        "colab": {
          "base_uri": "https://localhost:8080/",
          "height": 774
        },
        "id": "fLStvr8yCJwH",
        "outputId": "39d3bc60-16d7-476e-ceb5-656aef43a429"
      },
      "outputs": [
        {
          "output_type": "stream",
          "name": "stderr",
          "text": [
            "/usr/local/lib/python3.11/dist-packages/keras/src/layers/core/embedding.py:90: UserWarning: Argument `input_length` is deprecated. Just remove it.\n",
            "  warnings.warn(\n"
          ]
        },
        {
          "output_type": "stream",
          "name": "stdout",
          "text": [
            "Sequence-to-Sequence Model Summary:\n"
          ]
        },
        {
          "output_type": "display_data",
          "data": {
            "text/plain": [
              "\u001b[1mModel: \"functional\"\u001b[0m\n"
            ],
            "text/html": [
              "<pre style=\"white-space:pre;overflow-x:auto;line-height:normal;font-family:Menlo,'DejaVu Sans Mono',consolas,'Courier New',monospace\"><span style=\"font-weight: bold\">Model: \"functional\"</span>\n",
              "</pre>\n"
            ]
          },
          "metadata": {}
        },
        {
          "output_type": "display_data",
          "data": {
            "text/plain": [
              "┏━━━━━━━━━━━━━━━━━━━━━┳━━━━━━━━━━━━━━━━━━━┳━━━━━━━━━━━━┳━━━━━━━━━━━━━━━━━━━┓\n",
              "┃\u001b[1m \u001b[0m\u001b[1mLayer (type)       \u001b[0m\u001b[1m \u001b[0m┃\u001b[1m \u001b[0m\u001b[1mOutput Shape     \u001b[0m\u001b[1m \u001b[0m┃\u001b[1m \u001b[0m\u001b[1m   Param #\u001b[0m\u001b[1m \u001b[0m┃\u001b[1m \u001b[0m\u001b[1mConnected to     \u001b[0m\u001b[1m \u001b[0m┃\n",
              "┡━━━━━━━━━━━━━━━━━━━━━╇━━━━━━━━━━━━━━━━━━━╇━━━━━━━━━━━━╇━━━━━━━━━━━━━━━━━━━┩\n",
              "│ decoder_inputs      │ (\u001b[38;5;45mNone\u001b[0m, \u001b[38;5;34m12\u001b[0m)        │          \u001b[38;5;34m0\u001b[0m │ -                 │\n",
              "│ (\u001b[38;5;33mInputLayer\u001b[0m)        │                   │            │                   │\n",
              "├─────────────────────┼───────────────────┼────────────┼───────────────────┤\n",
              "│ encoder_inputs      │ (\u001b[38;5;45mNone\u001b[0m, \u001b[38;5;34m12\u001b[0m)        │          \u001b[38;5;34m0\u001b[0m │ -                 │\n",
              "│ (\u001b[38;5;33mInputLayer\u001b[0m)        │                   │            │                   │\n",
              "├─────────────────────┼───────────────────┼────────────┼───────────────────┤\n",
              "│ embedding_layer     │ (\u001b[38;5;45mNone\u001b[0m, \u001b[38;5;34m12\u001b[0m, \u001b[38;5;34m50\u001b[0m)    │    \u001b[38;5;34m250,000\u001b[0m │ encoder_inputs[\u001b[38;5;34m0\u001b[0m… │\n",
              "│ (\u001b[38;5;33mEmbedding\u001b[0m)         │                   │            │ decoder_inputs[\u001b[38;5;34m0\u001b[0m… │\n",
              "├─────────────────────┼───────────────────┼────────────┼───────────────────┤\n",
              "│ not_equal           │ (\u001b[38;5;45mNone\u001b[0m, \u001b[38;5;34m12\u001b[0m)        │          \u001b[38;5;34m0\u001b[0m │ encoder_inputs[\u001b[38;5;34m0\u001b[0m… │\n",
              "│ (\u001b[38;5;33mNotEqual\u001b[0m)          │                   │            │                   │\n",
              "├─────────────────────┼───────────────────┼────────────┼───────────────────┤\n",
              "│ bidirectional_enco… │ [(\u001b[38;5;45mNone\u001b[0m, \u001b[38;5;34m12\u001b[0m, \u001b[38;5;34m128\u001b[0m), │     \u001b[38;5;34m58,880\u001b[0m │ embedding_layer[\u001b[38;5;34m…\u001b[0m │\n",
              "│ (\u001b[38;5;33mBidirectional\u001b[0m)     │ (\u001b[38;5;45mNone\u001b[0m, \u001b[38;5;34m64\u001b[0m),       │            │ not_equal[\u001b[38;5;34m0\u001b[0m][\u001b[38;5;34m0\u001b[0m]   │\n",
              "│                     │ (\u001b[38;5;45mNone\u001b[0m, \u001b[38;5;34m64\u001b[0m),       │            │                   │\n",
              "│                     │ (\u001b[38;5;45mNone\u001b[0m, \u001b[38;5;34m64\u001b[0m),       │            │                   │\n",
              "│                     │ (\u001b[38;5;45mNone\u001b[0m, \u001b[38;5;34m64\u001b[0m)]       │            │                   │\n",
              "├─────────────────────┼───────────────────┼────────────┼───────────────────┤\n",
              "│ concatenate         │ (\u001b[38;5;45mNone\u001b[0m, \u001b[38;5;34m128\u001b[0m)       │          \u001b[38;5;34m0\u001b[0m │ bidirectional_en… │\n",
              "│ (\u001b[38;5;33mConcatenate\u001b[0m)       │                   │            │ bidirectional_en… │\n",
              "├─────────────────────┼───────────────────┼────────────┼───────────────────┤\n",
              "│ concatenate_1       │ (\u001b[38;5;45mNone\u001b[0m, \u001b[38;5;34m128\u001b[0m)       │          \u001b[38;5;34m0\u001b[0m │ bidirectional_en… │\n",
              "│ (\u001b[38;5;33mConcatenate\u001b[0m)       │                   │            │ bidirectional_en… │\n",
              "├─────────────────────┼───────────────────┼────────────┼───────────────────┤\n",
              "│ projection_layer    │ (\u001b[38;5;45mNone\u001b[0m, \u001b[38;5;34m64\u001b[0m)        │      \u001b[38;5;34m8,256\u001b[0m │ concatenate[\u001b[38;5;34m0\u001b[0m][\u001b[38;5;34m0\u001b[0m… │\n",
              "│ (\u001b[38;5;33mDense\u001b[0m)             │                   │            │ concatenate_1[\u001b[38;5;34m0\u001b[0m]… │\n",
              "├─────────────────────┼───────────────────┼────────────┼───────────────────┤\n",
              "│ decoder_lstm (\u001b[38;5;33mLSTM\u001b[0m) │ [(\u001b[38;5;45mNone\u001b[0m, \u001b[38;5;34m12\u001b[0m, \u001b[38;5;34m64\u001b[0m),  │     \u001b[38;5;34m29,440\u001b[0m │ embedding_layer[\u001b[38;5;34m…\u001b[0m │\n",
              "│                     │ (\u001b[38;5;45mNone\u001b[0m, \u001b[38;5;34m64\u001b[0m),       │            │ projection_layer… │\n",
              "│                     │ (\u001b[38;5;45mNone\u001b[0m, \u001b[38;5;34m64\u001b[0m)]       │            │ projection_layer… │\n",
              "├─────────────────────┼───────────────────┼────────────┼───────────────────┤\n",
              "│ dropout (\u001b[38;5;33mDropout\u001b[0m)   │ (\u001b[38;5;45mNone\u001b[0m, \u001b[38;5;34m12\u001b[0m, \u001b[38;5;34m64\u001b[0m)    │          \u001b[38;5;34m0\u001b[0m │ decoder_lstm[\u001b[38;5;34m0\u001b[0m][\u001b[38;5;34m…\u001b[0m │\n",
              "├─────────────────────┼───────────────────┼────────────┼───────────────────┤\n",
              "│ decoder_output      │ (\u001b[38;5;45mNone\u001b[0m, \u001b[38;5;34m12\u001b[0m, \u001b[38;5;34m5000\u001b[0m)  │    \u001b[38;5;34m325,000\u001b[0m │ dropout[\u001b[38;5;34m0\u001b[0m][\u001b[38;5;34m0\u001b[0m]     │\n",
              "│ (\u001b[38;5;33mDense\u001b[0m)             │                   │            │                   │\n",
              "└─────────────────────┴───────────────────┴────────────┴───────────────────┘\n"
            ],
            "text/html": [
              "<pre style=\"white-space:pre;overflow-x:auto;line-height:normal;font-family:Menlo,'DejaVu Sans Mono',consolas,'Courier New',monospace\">┏━━━━━━━━━━━━━━━━━━━━━┳━━━━━━━━━━━━━━━━━━━┳━━━━━━━━━━━━┳━━━━━━━━━━━━━━━━━━━┓\n",
              "┃<span style=\"font-weight: bold\"> Layer (type)        </span>┃<span style=\"font-weight: bold\"> Output Shape      </span>┃<span style=\"font-weight: bold\">    Param # </span>┃<span style=\"font-weight: bold\"> Connected to      </span>┃\n",
              "┡━━━━━━━━━━━━━━━━━━━━━╇━━━━━━━━━━━━━━━━━━━╇━━━━━━━━━━━━╇━━━━━━━━━━━━━━━━━━━┩\n",
              "│ decoder_inputs      │ (<span style=\"color: #00d7ff; text-decoration-color: #00d7ff\">None</span>, <span style=\"color: #00af00; text-decoration-color: #00af00\">12</span>)        │          <span style=\"color: #00af00; text-decoration-color: #00af00\">0</span> │ -                 │\n",
              "│ (<span style=\"color: #0087ff; text-decoration-color: #0087ff\">InputLayer</span>)        │                   │            │                   │\n",
              "├─────────────────────┼───────────────────┼────────────┼───────────────────┤\n",
              "│ encoder_inputs      │ (<span style=\"color: #00d7ff; text-decoration-color: #00d7ff\">None</span>, <span style=\"color: #00af00; text-decoration-color: #00af00\">12</span>)        │          <span style=\"color: #00af00; text-decoration-color: #00af00\">0</span> │ -                 │\n",
              "│ (<span style=\"color: #0087ff; text-decoration-color: #0087ff\">InputLayer</span>)        │                   │            │                   │\n",
              "├─────────────────────┼───────────────────┼────────────┼───────────────────┤\n",
              "│ embedding_layer     │ (<span style=\"color: #00d7ff; text-decoration-color: #00d7ff\">None</span>, <span style=\"color: #00af00; text-decoration-color: #00af00\">12</span>, <span style=\"color: #00af00; text-decoration-color: #00af00\">50</span>)    │    <span style=\"color: #00af00; text-decoration-color: #00af00\">250,000</span> │ encoder_inputs[<span style=\"color: #00af00; text-decoration-color: #00af00\">0</span>… │\n",
              "│ (<span style=\"color: #0087ff; text-decoration-color: #0087ff\">Embedding</span>)         │                   │            │ decoder_inputs[<span style=\"color: #00af00; text-decoration-color: #00af00\">0</span>… │\n",
              "├─────────────────────┼───────────────────┼────────────┼───────────────────┤\n",
              "│ not_equal           │ (<span style=\"color: #00d7ff; text-decoration-color: #00d7ff\">None</span>, <span style=\"color: #00af00; text-decoration-color: #00af00\">12</span>)        │          <span style=\"color: #00af00; text-decoration-color: #00af00\">0</span> │ encoder_inputs[<span style=\"color: #00af00; text-decoration-color: #00af00\">0</span>… │\n",
              "│ (<span style=\"color: #0087ff; text-decoration-color: #0087ff\">NotEqual</span>)          │                   │            │                   │\n",
              "├─────────────────────┼───────────────────┼────────────┼───────────────────┤\n",
              "│ bidirectional_enco… │ [(<span style=\"color: #00d7ff; text-decoration-color: #00d7ff\">None</span>, <span style=\"color: #00af00; text-decoration-color: #00af00\">12</span>, <span style=\"color: #00af00; text-decoration-color: #00af00\">128</span>), │     <span style=\"color: #00af00; text-decoration-color: #00af00\">58,880</span> │ embedding_layer[<span style=\"color: #00af00; text-decoration-color: #00af00\">…</span> │\n",
              "│ (<span style=\"color: #0087ff; text-decoration-color: #0087ff\">Bidirectional</span>)     │ (<span style=\"color: #00d7ff; text-decoration-color: #00d7ff\">None</span>, <span style=\"color: #00af00; text-decoration-color: #00af00\">64</span>),       │            │ not_equal[<span style=\"color: #00af00; text-decoration-color: #00af00\">0</span>][<span style=\"color: #00af00; text-decoration-color: #00af00\">0</span>]   │\n",
              "│                     │ (<span style=\"color: #00d7ff; text-decoration-color: #00d7ff\">None</span>, <span style=\"color: #00af00; text-decoration-color: #00af00\">64</span>),       │            │                   │\n",
              "│                     │ (<span style=\"color: #00d7ff; text-decoration-color: #00d7ff\">None</span>, <span style=\"color: #00af00; text-decoration-color: #00af00\">64</span>),       │            │                   │\n",
              "│                     │ (<span style=\"color: #00d7ff; text-decoration-color: #00d7ff\">None</span>, <span style=\"color: #00af00; text-decoration-color: #00af00\">64</span>)]       │            │                   │\n",
              "├─────────────────────┼───────────────────┼────────────┼───────────────────┤\n",
              "│ concatenate         │ (<span style=\"color: #00d7ff; text-decoration-color: #00d7ff\">None</span>, <span style=\"color: #00af00; text-decoration-color: #00af00\">128</span>)       │          <span style=\"color: #00af00; text-decoration-color: #00af00\">0</span> │ bidirectional_en… │\n",
              "│ (<span style=\"color: #0087ff; text-decoration-color: #0087ff\">Concatenate</span>)       │                   │            │ bidirectional_en… │\n",
              "├─────────────────────┼───────────────────┼────────────┼───────────────────┤\n",
              "│ concatenate_1       │ (<span style=\"color: #00d7ff; text-decoration-color: #00d7ff\">None</span>, <span style=\"color: #00af00; text-decoration-color: #00af00\">128</span>)       │          <span style=\"color: #00af00; text-decoration-color: #00af00\">0</span> │ bidirectional_en… │\n",
              "│ (<span style=\"color: #0087ff; text-decoration-color: #0087ff\">Concatenate</span>)       │                   │            │ bidirectional_en… │\n",
              "├─────────────────────┼───────────────────┼────────────┼───────────────────┤\n",
              "│ projection_layer    │ (<span style=\"color: #00d7ff; text-decoration-color: #00d7ff\">None</span>, <span style=\"color: #00af00; text-decoration-color: #00af00\">64</span>)        │      <span style=\"color: #00af00; text-decoration-color: #00af00\">8,256</span> │ concatenate[<span style=\"color: #00af00; text-decoration-color: #00af00\">0</span>][<span style=\"color: #00af00; text-decoration-color: #00af00\">0</span>… │\n",
              "│ (<span style=\"color: #0087ff; text-decoration-color: #0087ff\">Dense</span>)             │                   │            │ concatenate_1[<span style=\"color: #00af00; text-decoration-color: #00af00\">0</span>]… │\n",
              "├─────────────────────┼───────────────────┼────────────┼───────────────────┤\n",
              "│ decoder_lstm (<span style=\"color: #0087ff; text-decoration-color: #0087ff\">LSTM</span>) │ [(<span style=\"color: #00d7ff; text-decoration-color: #00d7ff\">None</span>, <span style=\"color: #00af00; text-decoration-color: #00af00\">12</span>, <span style=\"color: #00af00; text-decoration-color: #00af00\">64</span>),  │     <span style=\"color: #00af00; text-decoration-color: #00af00\">29,440</span> │ embedding_layer[<span style=\"color: #00af00; text-decoration-color: #00af00\">…</span> │\n",
              "│                     │ (<span style=\"color: #00d7ff; text-decoration-color: #00d7ff\">None</span>, <span style=\"color: #00af00; text-decoration-color: #00af00\">64</span>),       │            │ projection_layer… │\n",
              "│                     │ (<span style=\"color: #00d7ff; text-decoration-color: #00d7ff\">None</span>, <span style=\"color: #00af00; text-decoration-color: #00af00\">64</span>)]       │            │ projection_layer… │\n",
              "├─────────────────────┼───────────────────┼────────────┼───────────────────┤\n",
              "│ dropout (<span style=\"color: #0087ff; text-decoration-color: #0087ff\">Dropout</span>)   │ (<span style=\"color: #00d7ff; text-decoration-color: #00d7ff\">None</span>, <span style=\"color: #00af00; text-decoration-color: #00af00\">12</span>, <span style=\"color: #00af00; text-decoration-color: #00af00\">64</span>)    │          <span style=\"color: #00af00; text-decoration-color: #00af00\">0</span> │ decoder_lstm[<span style=\"color: #00af00; text-decoration-color: #00af00\">0</span>][<span style=\"color: #00af00; text-decoration-color: #00af00\">…</span> │\n",
              "├─────────────────────┼───────────────────┼────────────┼───────────────────┤\n",
              "│ decoder_output      │ (<span style=\"color: #00d7ff; text-decoration-color: #00d7ff\">None</span>, <span style=\"color: #00af00; text-decoration-color: #00af00\">12</span>, <span style=\"color: #00af00; text-decoration-color: #00af00\">5000</span>)  │    <span style=\"color: #00af00; text-decoration-color: #00af00\">325,000</span> │ dropout[<span style=\"color: #00af00; text-decoration-color: #00af00\">0</span>][<span style=\"color: #00af00; text-decoration-color: #00af00\">0</span>]     │\n",
              "│ (<span style=\"color: #0087ff; text-decoration-color: #0087ff\">Dense</span>)             │                   │            │                   │\n",
              "└─────────────────────┴───────────────────┴────────────┴───────────────────┘\n",
              "</pre>\n"
            ]
          },
          "metadata": {}
        },
        {
          "output_type": "display_data",
          "data": {
            "text/plain": [
              "\u001b[1m Total params: \u001b[0m\u001b[38;5;34m671,576\u001b[0m (2.56 MB)\n"
            ],
            "text/html": [
              "<pre style=\"white-space:pre;overflow-x:auto;line-height:normal;font-family:Menlo,'DejaVu Sans Mono',consolas,'Courier New',monospace\"><span style=\"font-weight: bold\"> Total params: </span><span style=\"color: #00af00; text-decoration-color: #00af00\">671,576</span> (2.56 MB)\n",
              "</pre>\n"
            ]
          },
          "metadata": {}
        },
        {
          "output_type": "display_data",
          "data": {
            "text/plain": [
              "\u001b[1m Trainable params: \u001b[0m\u001b[38;5;34m671,576\u001b[0m (2.56 MB)\n"
            ],
            "text/html": [
              "<pre style=\"white-space:pre;overflow-x:auto;line-height:normal;font-family:Menlo,'DejaVu Sans Mono',consolas,'Courier New',monospace\"><span style=\"font-weight: bold\"> Trainable params: </span><span style=\"color: #00af00; text-decoration-color: #00af00\">671,576</span> (2.56 MB)\n",
              "</pre>\n"
            ]
          },
          "metadata": {}
        },
        {
          "output_type": "display_data",
          "data": {
            "text/plain": [
              "\u001b[1m Non-trainable params: \u001b[0m\u001b[38;5;34m0\u001b[0m (0.00 B)\n"
            ],
            "text/html": [
              "<pre style=\"white-space:pre;overflow-x:auto;line-height:normal;font-family:Menlo,'DejaVu Sans Mono',consolas,'Courier New',monospace\"><span style=\"font-weight: bold\"> Non-trainable params: </span><span style=\"color: #00af00; text-decoration-color: #00af00\">0</span> (0.00 B)\n",
              "</pre>\n"
            ]
          },
          "metadata": {}
        },
        {
          "output_type": "execute_result",
          "data": {
            "text/plain": [
              "165"
            ]
          },
          "metadata": {},
          "execution_count": 19
        }
      ],
      "source": [
        "# Build the model\n",
        "model, encoder_model, decoder_model = build_model(\n",
        "    vocab_size=VOCAB_SIZE,\n",
        "    max_seq_length=MAX_SEQ_LENGTH,\n",
        "    embedding_dim=EMBEDDING_DIM,\n",
        "    hidden_size=HIDDEN_SIZE,\n",
        "    embedding_matrix=embedding_matrix\n",
        ")\n",
        "\n",
        "# Print model summaries\n",
        "print(\"Sequence-to-Sequence Model Summary:\")\n",
        "model.summary()\n",
        "\n",
        "# Free up memory\n",
        "del embedding_matrix\n",
        "gc.collect()"
      ]
    },
    {
      "cell_type": "markdown",
      "metadata": {
        "id": "Rv7UQdP1CJwH"
      },
      "source": [
        "## 6. Training the Model\n",
        "\n",
        "Now let's train our model using the prepared data. We'll use early stopping to prevent overfitting:"
      ]
    },
    {
      "cell_type": "code",
      "execution_count": 20,
      "metadata": {
        "id": "rQjECZIgCJwH"
      },
      "outputs": [],
      "source": [
        "# Define callbacks for training\n",
        "callbacks = [\n",
        "    EarlyStopping(\n",
        "        monitor='val_loss',\n",
        "        patience=2,  # Reduced from 3 to 2\n",
        "        restore_best_weights=True\n",
        "    ),\n",
        "    ReduceLROnPlateau(\n",
        "        monitor='val_loss',\n",
        "        factor=0.5,\n",
        "        patience=1,  # Reduced from 2 to 1\n",
        "        min_lr=0.0001\n",
        "    ),\n",
        "    ModelCheckpoint(\n",
        "        filepath='seq2seq_chatbot_model.h5',\n",
        "        save_best_only=True,\n",
        "        monitor='val_loss'\n",
        "    )\n",
        "]"
      ]
    },
    {
      "cell_type": "code",
      "execution_count": 21,
      "metadata": {
        "colab": {
          "base_uri": "https://localhost:8080/"
        },
        "id": "9i10sR9NCJwH",
        "outputId": "37d2529b-45c2-49bb-adda-6e6f97e4abd1"
      },
      "outputs": [
        {
          "output_type": "stream",
          "name": "stdout",
          "text": [
            "Epoch 1/10\n",
            "\u001b[1m44/44\u001b[0m \u001b[32m━━━━━━━━━━━━━━━━━━━━\u001b[0m\u001b[37m\u001b[0m \u001b[1m0s\u001b[0m 14ms/step - accuracy: 0.0702 - loss: 8.0944"
          ]
        },
        {
          "output_type": "stream",
          "name": "stderr",
          "text": [
            "WARNING:absl:You are saving your model as an HDF5 file via `model.save()` or `keras.saving.save_model(model)`. This file format is considered legacy. We recommend using instead the native Keras format, e.g. `model.save('my_model.keras')` or `keras.saving.save_model(model, 'my_model.keras')`. \n"
          ]
        },
        {
          "output_type": "stream",
          "name": "stdout",
          "text": [
            "\b\b\b\b\b\b\b\b\b\b\b\b\b\b\b\b\b\b\b\b\b\b\b\b\b\b\b\b\b\b\b\b\b\b\b\b\b\b\b\b\b\b\b\b\b\b\b\b\b\b\b\b\b\b\b\b\b\b\b\b\b\b\b\b\b\b\b\b\b\b\b\b\b\r\u001b[1m44/44\u001b[0m \u001b[32m━━━━━━━━━━━━━━━━━━━━\u001b[0m\u001b[37m\u001b[0m \u001b[1m9s\u001b[0m 31ms/step - accuracy: 0.0707 - loss: 8.0803 - val_accuracy: 0.1106 - val_loss: 6.0651 - learning_rate: 0.0010\n",
            "Epoch 2/10\n",
            "\u001b[1m40/44\u001b[0m \u001b[32m━━━━━━━━━━━━━━━━━━\u001b[0m\u001b[37m━━\u001b[0m \u001b[1m0s\u001b[0m 11ms/step - accuracy: 0.1102 - loss: 5.6723"
          ]
        },
        {
          "output_type": "stream",
          "name": "stderr",
          "text": [
            "WARNING:absl:You are saving your model as an HDF5 file via `model.save()` or `keras.saving.save_model(model)`. This file format is considered legacy. We recommend using instead the native Keras format, e.g. `model.save('my_model.keras')` or `keras.saving.save_model(model, 'my_model.keras')`. \n"
          ]
        },
        {
          "output_type": "stream",
          "name": "stdout",
          "text": [
            "\b\b\b\b\b\b\b\b\b\b\b\b\b\b\b\b\b\b\b\b\b\b\b\b\b\b\b\b\b\b\b\b\b\b\b\b\b\b\b\b\b\b\b\b\b\b\b\b\b\b\b\b\b\b\b\b\b\b\b\b\b\b\b\b\b\b\b\b\b\b\b\b\b\r\u001b[1m44/44\u001b[0m \u001b[32m━━━━━━━━━━━━━━━━━━━━\u001b[0m\u001b[37m\u001b[0m \u001b[1m1s\u001b[0m 16ms/step - accuracy: 0.1100 - loss: 5.6625 - val_accuracy: 0.1106 - val_loss: 5.7761 - learning_rate: 0.0010\n",
            "Epoch 3/10\n",
            "\u001b[1m44/44\u001b[0m \u001b[32m━━━━━━━━━━━━━━━━━━━━\u001b[0m\u001b[37m\u001b[0m \u001b[1m1s\u001b[0m 15ms/step - accuracy: 0.1086 - loss: 5.4427 - val_accuracy: 0.1106 - val_loss: 5.8145 - learning_rate: 0.0010\n",
            "Epoch 4/10\n",
            "\u001b[1m44/44\u001b[0m \u001b[32m━━━━━━━━━━━━━━━━━━━━\u001b[0m\u001b[37m\u001b[0m \u001b[1m1s\u001b[0m 13ms/step - accuracy: 0.1073 - loss: 5.4205 - val_accuracy: 0.1106 - val_loss: 5.8322 - learning_rate: 5.0000e-04\n"
          ]
        }
      ],
      "source": [
        "# Train the model\n",
        "# Note: since we're using sparse_categorical_crossentropy,\n",
        "# decoder_output_train and decoder_output_val should not be one-hot encoded\n",
        "history = model.fit(\n",
        "    [encoder_train, decoder_input_train],\n",
        "    decoder_output_train,  # Now using integer labels, not one-hot\n",
        "    batch_size=BATCH_SIZE,\n",
        "    epochs=EPOCHS,\n",
        "    validation_data=([encoder_val, decoder_input_val], decoder_output_val),\n",
        "    callbacks=callbacks\n",
        ")"
      ]
    },
    {
      "cell_type": "code",
      "execution_count": 22,
      "metadata": {
        "colab": {
          "base_uri": "https://localhost:8080/",
          "height": 507
        },
        "id": "F4A_LwFqCJwH",
        "outputId": "f87c8f6c-43fa-435c-dcb1-3967691c5abc"
      },
      "outputs": [
        {
          "output_type": "display_data",
          "data": {
            "text/plain": [
              "<Figure size 1400x500 with 2 Axes>"
            ],
            "image/png": "[encoded data removed]"
          },
          "metadata": {}
        }
      ],
      "source": [
        "# Plot training history\n",
        "plt.figure(figsize=(14, 5))\n",
        "\n",
        "plt.subplot(1, 2, 1)\n",
        "plt.plot(history.history['loss'], label='Training Loss')\n",
        "plt.plot(history.history['val_loss'], label='Validation Loss')\n",
        "plt.title('Loss')\n",
        "plt.xlabel('Epoch')\n",
        "plt.ylabel('Loss')\n",
        "plt.legend()\n",
        "\n",
        "plt.subplot(1, 2, 2)\n",
        "plt.plot(history.history['accuracy'], label='Training Accuracy')\n",
        "plt.plot(history.history['val_accuracy'], label='Validation Accuracy')\n",
        "plt.title('Accuracy')\n",
        "plt.xlabel('Epoch')\n",
        "plt.ylabel('Accuracy')\n",
        "plt.legend()\n",
        "\n",
        "plt.tight_layout()\n",
        "plt.show()"
      ]
    },
    {
      "cell_type": "markdown",
      "metadata": {
        "id": "XyCjwCWOCJwH"
      },
      "source": [
        "## 7. Model Evaluation\n",
        "\n",
        "Let's evaluate our model on the test set:"
      ]
    },
    {
      "cell_type": "code",
      "execution_count": 23,
      "metadata": {
        "colab": {
          "base_uri": "https://localhost:8080/"
        },
        "id": "eNRzHL1dCJwH",
        "outputId": "2685be75-97e9-447b-c3ca-bd65f973929a"
      },
      "outputs": [
        {
          "output_type": "stream",
          "name": "stdout",
          "text": [
            "\u001b[1m10/10\u001b[0m \u001b[32m━━━━━━━━━━━━━━━━━━━━\u001b[0m\u001b[37m\u001b[0m \u001b[1m0s\u001b[0m 10ms/step - accuracy: 0.1079 - loss: 5.6360\n",
            "Test Loss: 5.6927\n",
            "Test Accuracy: 0.1083\n"
          ]
        }
      ],
      "source": [
        "# Evaluate on test set\n",
        "test_loss, test_accuracy = model.evaluate(\n",
        "    [encoder_test, decoder_input_test],\n",
        "    decoder_output_test,\n",
        "    batch_size=BATCH_SIZE\n",
        ")\n",
        "\n",
        "print(f\"Test Loss: {test_loss:.4f}\")\n",
        "print(f\"Test Accuracy: {test_accuracy:.4f}\")"
      ]
    },
    {
      "cell_type": "markdown",
      "metadata": {
        "id": "YLqdpaxDCJwI"
      },
      "source": [
        "### 7.1 Inference Functions\n",
        "\n",
        "Let's create some functions for generating responses using our trained model:"
      ]
    },
    {
      "cell_type": "code",
      "execution_count": 24,
      "metadata": {
        "id": "cRerOfYbCJwI"
      },
      "outputs": [],
      "source": [
        "def decode_sequence(input_seq, encoder_model, decoder_model, max_seq_length, start_token, end_token):\n",
        "    \"\"\"Generate a response given an input sequence.\"\"\"\n",
        "    # Encode the input sequence\n",
        "    encoder_outputs, state_h, state_c = encoder_model.predict(input_seq, verbose=0)\n",
        "\n",
        "    # Generate empty target sequence of length 1 with start token\n",
        "    target_seq = np.zeros((1, max_seq_length))\n",
        "    target_seq[0, 0] = start_token\n",
        "\n",
        "    # Output sequence storage\n",
        "    decoded_tokens = []\n",
        "\n",
        "    # Loop until max length or end token\n",
        "    for i in range(max_seq_length - 1):\n",
        "        # Generate output tokens and states\n",
        "        output_tokens, h, c = decoder_model.predict(\n",
        "            [target_seq, state_h, state_c, encoder_outputs],\n",
        "            verbose=0\n",
        "        )\n",
        "\n",
        "        # Sample a token from the output distribution\n",
        "        sampled_token_index = np.argmax(output_tokens[0, i, :])\n",
        "        decoded_tokens.append(sampled_token_index)\n",
        "\n",
        "        # Exit condition: reached end token or max length\n",
        "        if sampled_token_index == end_token:\n",
        "            break\n",
        "\n",
        "        # Update the target sequence with the sampled token\n",
        "        if i < max_seq_length - 2:\n",
        "            target_seq[0, i+1] = sampled_token_index\n",
        "\n",
        "        # Update states\n",
        "        state_h = h\n",
        "        state_c = c\n",
        "\n",
        "    return decoded_tokens"
      ]
    },
    {
      "cell_type": "code",
      "execution_count": 25,
      "metadata": {
        "id": "6bfpBzjoCJwI"
      },
      "outputs": [],
      "source": [
        "def generate_response(input_text, tokenizer, encoder_model, decoder_model, max_seq_length, start_token, end_token):\n",
        "    \"\"\"Generate a response to the input text.\"\"\"\n",
        "    # Clean and preprocess the input text\n",
        "    input_text = clean_text(input_text)\n",
        "\n",
        "    # Convert to sequence\n",
        "    input_seq = tokenizer.texts_to_sequences([input_text])\n",
        "    input_seq = pad_sequences(input_seq, maxlen=max_seq_length, padding='post')\n",
        "\n",
        "    # Generate response tokens\n",
        "    response_tokens = decode_sequence(\n",
        "        input_seq,\n",
        "        encoder_model,\n",
        "        decoder_model,\n",
        "        max_seq_length,\n",
        "        start_token,\n",
        "        end_token\n",
        "    )\n",
        "\n",
        "    # Convert tokens to words\n",
        "    response_words = [index_word.get(token, '') for token in response_tokens if token > 0 and token != end_token]\n",
        "\n",
        "    # Join the words to form the response\n",
        "    response = ' '.join(response_words)\n",
        "\n",
        "    return response"
      ]
    },
    {
      "cell_type": "markdown",
      "metadata": {
        "id": "HsbCbbg-CJwI"
      },
      "source": [
        "## 8. Interactive Testing\n",
        "\n",
        "Let's test our model with some input phrases:"
      ]
    },
    {
      "cell_type": "code",
      "execution_count": 26,
      "metadata": {
        "id": "ZaEelQa5CJwI"
      },
      "outputs": [],
      "source": [
        "def test_chatbot(test_inputs, tokenizer, encoder_model, decoder_model, max_seq_length, start_token, end_token):\n",
        "    \"\"\"Test the chatbot with a list of input phrases.\"\"\"\n",
        "    for input_text in test_inputs:\n",
        "        response = generate_response(\n",
        "            input_text,\n",
        "            tokenizer,\n",
        "            encoder_model,\n",
        "            decoder_model,\n",
        "            max_seq_length,\n",
        "            start_token,\n",
        "            end_token\n",
        "        )\n",
        "        print(f\"Input: {input_text}\")\n",
        "        print(f\"Response: {response}\")\n",
        "        print()"
      ]
    },
    {
      "cell_type": "code",
      "execution_count": 27,
      "metadata": {
        "colab": {
          "base_uri": "https://localhost:8080/"
        },
        "id": "ufV17myZCJwI",
        "outputId": "750d1983-1850-45ea-e0c7-78e8927a359d"
      },
      "outputs": [
        {
          "output_type": "stream",
          "name": "stdout",
          "text": [
            "Input: Hello, how are you?\n",
            "Response: \n",
            "\n",
            "Input: What's your name?\n",
            "Response: \n",
            "\n",
            "Input: Tell me a story.\n",
            "Response: \n",
            "\n",
            "Input: I'm feeling sad today.\n",
            "Response: \n",
            "\n",
            "Input: Do you like movies?\n",
            "Response: \n",
            "\n"
          ]
        }
      ],
      "source": [
        "# Define a set of test phrases\n",
        "test_inputs = [\n",
        "    \"Hello, how are you?\",\n",
        "    \"What's your name?\",\n",
        "    \"Tell me a story.\",\n",
        "    \"I'm feeling sad today.\",\n",
        "    \"Do you like movies?\"\n",
        "]\n",
        "\n",
        "# Test the chatbot\n",
        "test_chatbot(\n",
        "    test_inputs,\n",
        "    tokenizer,\n",
        "    encoder_model,\n",
        "    decoder_model,\n",
        "    MAX_SEQ_LENGTH,\n",
        "    START_TOKEN,\n",
        "    END_TOKEN\n",
        ")"
      ]
    },
    {
      "cell_type": "code",
      "execution_count": 28,
      "metadata": {
        "id": "kM1kTpR4CJwI"
      },
      "outputs": [],
      "source": [
        "# Interactive chat loop\n",
        "def interactive_chat(tokenizer, encoder_model, decoder_model, max_seq_length, start_token, end_token):\n",
        "    \"\"\"Run an interactive chat session with the chatbot.\"\"\"\n",
        "    print(\"\\nChatbot is ready! Type 'quit' to exit.\")\n",
        "    print(\"Bot: Hello! How can I assist you today?\")\n",
        "\n",
        "    while True:\n",
        "        # Get user input\n",
        "        user_input = input(\"You: \")\n",
        "\n",
        "        if user_input.lower() in ['quit', 'exit', 'bye']:\n",
        "            print(\"Bot: Goodbye! Have a nice day!\")\n",
        "            break\n",
        "\n",
        "        # Generate response\n",
        "        response = generate_response(\n",
        "            user_input,\n",
        "            tokenizer,\n",
        "            encoder_model,\n",
        "            decoder_model,\n",
        "            max_seq_length,\n",
        "            start_token,\n",
        "            end_token\n",
        "        )\n",
        "\n",
        "        print(f\"Bot: {response}\")"
      ]
    },
    {
      "cell_type": "code",
      "execution_count": 29,
      "metadata": {
        "colab": {
          "base_uri": "https://localhost:8080/"
        },
        "id": "gzQywkhsCJwI",
        "outputId": "59767076-4d1b-4502-b272-2712a0060381"
      },
      "outputs": [
        {
          "output_type": "stream",
          "name": "stdout",
          "text": [
            "\n",
            "Chatbot is ready! Type 'quit' to exit.\n",
            "Bot: Hello! How can I assist you today?\n",
            "You: hi\n",
            "Bot: \n",
            "You: finsih\n",
            "Bot: \n",
            "You: exit\n",
            "Bot: Goodbye! Have a nice day!\n"
          ]
        }
      ],
      "source": [
        "# Start interactive chat\n",
        "interactive_chat(\n",
        "    tokenizer,\n",
        "    encoder_model,\n",
        "    decoder_model,\n",
        "    MAX_SEQ_LENGTH,\n",
        "    START_TOKEN,\n",
        "    END_TOKEN\n",
        ")"
      ]
    },
    {
      "cell_type": "markdown",
      "metadata": {
        "id": "7LQNrXrICJwI"
      },
      "source": [
        "## 9. Conclusions and Future Work\n",
        "\n",
        "### 9.1 Achievements\n",
        "\n",
        "In this notebook, we've successfully implemented a neural conversational agent using sequence-to-sequence architecture with attention. Our implementation includes:\n",
        "\n",
        "1. Comprehensive data preprocessing of the Cornell Movie Dialog Corpus\n",
        "2. Memory-efficient implementation that works on systems with limited resources\n",
        "3. GloVe word embeddings for rich semantic representation\n",
        "4. A bidirectional LSTM encoder to capture context from both directions\n",
        "5. An LSTM decoder for response generation\n",
        "6. Training and evaluation on a subset of conversational exchanges\n",
        "7. Interactive testing capabilities\n",
        "\n",
        "### 9.2 Limitations\n",
        "\n",
        "While our implementation demonstrates the core concepts of neural conversational agents, it has several limitations:\n",
        "\n",
        "1. **Limited context**: The model only considers the immediate previous utterance, not the entire conversation history\n",
        "2. **Limited vocabulary**: We restricted our vocabulary to the most frequent words\n",
        "3. **Generic responses**: The model may generate generic or non-specific responses to certain inputs\n",
        "4. **Lack of personality**: The responses don't have a consistent personality or character\n",
        "5. **No factual knowledge**: The model can't provide factual information beyond what's in the training data\n",
        "6. **Resource constraints**: We had to significantly reduce the dataset size and model complexity to prevent system crashes\n",
        "7. **Simplified architecture**: To work within memory constraints, we had to simplify certain aspects of the model\n",
        "\n",
        "### 9.3 Future Improvements\n",
        "\n",
        "Several enhancements could improve the performance and capabilities of our conversational agent:\n",
        "\n",
        "1. **Transformer architecture**: Replacing the LSTM-based models with Transformers could improve performance\n",
        "2. **Hierarchical encoders**: Implementing hierarchical models to capture longer conversation history\n",
        "3. **Diversity promotion**: Techniques like beam search with penalties for repetitive responses\n",
        "4. **Personality embedding**: Conditioning the model on personality traits for more consistent character\n",
        "5. **Knowledge integration**: Incorporating external knowledge bases for factual responses\n",
        "6. **Emotion recognition**: Adding emotional intelligence to the conversation flow\n",
        "7. **Reinforcement learning**: Fine-tuning the model using reinforcement learning with human feedback\n",
        "8. **Resource optimization**: Implementing techniques like quantization to train larger models with limited resources\n",
        "9. **Distributed training**: Using distributed computing to train on larger datasets\n",
        "\n",
        "### 9.4 Ethical Considerations\n",
        "\n",
        "When developing conversational AI systems, it's crucial to consider ethical implications:\n",
        "\n",
        "1. **Bias mitigation**: Ensuring the model doesn't perpetuate harmful stereotypes or biases present in training data\n",
        "2. **Content filtering**: Implementing safeguards against generating offensive or harmful content\n",
        "3. **Transparency**: Being clear with users that they are interacting with an AI system\n",
        "4. **Privacy**: Handling user information and conversations with appropriate privacy measures\n",
        "5. **Misuse prevention**: Designing systems to prevent potential misuse for deception or manipulation\n",
        "\n",
        "By addressing these considerations and continuing to improve the technical implementation, conversational AI systems can become more useful, engaging, and responsible tools for human-computer interaction."
      ]
    }
  ],
  "metadata": {
    "kernelspec": {
      "display_name": "Python 3",
      "name": "python3"
    },
    "language_info": {
      "codemirror_mode": {
        "name": "ipython",
        "version": 3
      },
      "file_extension": ".py",
      "mimetype": "text/x-python",
      "name": "python",
      "nbconvert_exporter": "python",
      "pygments_lexer": "ipython3",
      "version": "3.10.8"
    },
    "colab": {
      "provenance": [],
      "gpuType": "T4"
    },
    "accelerator": "GPU"
  },
  "nbformat": 4,
  "nbformat_minor": 0
}